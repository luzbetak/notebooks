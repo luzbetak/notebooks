{
 "cells": [
  {
   "cell_type": "code",
   "execution_count": 0,
   "metadata": {
    "application/vnd.databricks.v1+cell": {
     "cellMetadata": {
      "byteLimit": 2048000,
      "rowLimit": 10000
     },
     "inputWidgets": {},
     "nuid": "de1bd238-17e6-4569-a816-bf1cea4dd24b",
     "showTitle": false,
     "title": ""
    }
   },
   "outputs": [
    {
     "output_type": "stream",
     "name": "stdout",
     "output_type": "stream",
     "text": [
      "Python interpreter will be restarted.\nCollecting faker\n  Downloading Faker-18.5.1-py3-none-any.whl (1.7 MB)\nRequirement already satisfied: python-dateutil>=2.4 in /databricks/python3/lib/python3.9/site-packages (from faker) (2.8.2)\nRequirement already satisfied: six>=1.5 in /databricks/python3/lib/python3.9/site-packages (from python-dateutil>=2.4->faker) (1.16.0)\nInstalling collected packages: faker\nSuccessfully installed faker-18.5.1\nPython interpreter will be restarted.\n"
     ]
    }
   ],
   "source": [
    "%pip install faker"
   ]
  },
  {
   "cell_type": "code",
   "execution_count": 0,
   "metadata": {
    "application/vnd.databricks.v1+cell": {
     "cellMetadata": {
      "byteLimit": 2048000,
      "rowLimit": 10000
     },
     "inputWidgets": {},
     "nuid": "d1c3d99a-0aa8-4dc5-9ba1-73ec274a2f6d",
     "showTitle": false,
     "title": ""
    }
   },
   "outputs": [
    {
     "output_type": "stream",
     "name": "stdout",
     "output_type": "stream",
     "text": [
      "+----------+----------+---------+-------------------------+-------------------+---------------------------------------------------------+\n|student_id|first_name|last_name|email                    |phone_number       |address                                                  |\n+----------+----------+---------+-------------------------+-------------------+---------------------------------------------------------+\n|0         |Victoria  |Green    |ojimenez@example.com     |637.091.3059       |36384 Garza Forge\\nMichelleville, MN 53585               |\n|1         |Margaret  |Fisher   |aaronbryant@example.org  |299-601-6513       |192 Tran Way Suite 739\\nGloriachester, RI 68201          |\n|2         |David     |Ortiz    |nealalexander@example.com|563-280-7389x047   |52013 Michael Tunnel Apt. 161\\nNew Kathrynhaven, TX 24622|\n|3         |Michael   |Mccormick|martinezamy@example.net  |4215770763         |29305 Richard Roads Suite 300\\nDavidview, DE 34723       |\n|4         |Erin      |Oliver   |taylortracy@example.org  |(771)884-3896x59388|3498 Craig Oval Suite 269\\nKimtown, OR 91896             |\n+----------+----------+---------+-------------------------+-------------------+---------------------------------------------------------+\nonly showing top 5 rows\n\n"
     ]
    }
   ],
   "source": [
    "from pyspark.sql.types import StructType, StructField, IntegerType, StringType\n",
    "from faker import Faker\n",
    "\n",
    "fake = Faker()\n",
    "\n",
    "student_schema = StructType([\n",
    "    StructField(\"student_id\",   IntegerType(), True),\n",
    "    StructField(\"first_name\",   StringType(), True),\n",
    "    StructField(\"last_name\",    StringType(), True),\n",
    "    StructField(\"email\",        StringType(), True),\n",
    "    StructField(\"phone_number\", StringType(), True),\n",
    "    StructField(\"address\",      StringType(), True),\n",
    "])\n",
    "\n",
    "sample_data = [(i, fake.first_name(), fake.last_name(), fake.email(), fake.phone_number(), fake.address()) for i in range(0, 10000)]\n",
    "student_df = spark.createDataFrame(sample_data, schema=student_schema)\n",
    "student_df.show(5, truncate=False)\n"
   ]
  },
  {
   "cell_type": "code",
   "execution_count": 0,
   "metadata": {
    "application/vnd.databricks.v1+cell": {
     "cellMetadata": {
      "byteLimit": 2048000,
      "rowLimit": 10000
     },
     "inputWidgets": {},
     "nuid": "49fa82ee-3f0f-4a68-b9d3-a471ee84c6e1",
     "showTitle": false,
     "title": ""
    }
   },
   "outputs": [
    {
     "output_type": "stream",
     "name": "stdout",
     "output_type": "stream",
     "text": [
      "+----------+-----------+---------+---------------------------+-------------------+---------------------------------------------------------+\n|student_id|first_name |last_name|email                      |phone_number       |address                                                  |\n+----------+-----------+---------+---------------------------+-------------------+---------------------------------------------------------+\n|0         |Victoria   |Green    |ojimenez@example.com       |637.091.3059       |36384 Garza Forge\\nMichelleville, MN 53585               |\n|1         |Margaret   |Fisher   |aaronbryant@example.org    |299-601-6513       |192 Tran Way Suite 739\\nGloriachester, RI 68201          |\n|2         |David      |Ortiz    |nealalexander@example.com  |563-280-7389x047   |52013 Michael Tunnel Apt. 161\\nNew Kathrynhaven, TX 24622|\n|3         |Michael    |Mccormick|martinezamy@example.net    |4215770763         |29305 Richard Roads Suite 300\\nDavidview, DE 34723       |\n|4         |Erin       |Oliver   |taylortracy@example.org    |(771)884-3896x59388|3498 Craig Oval Suite 269\\nKimtown, OR 91896             |\n|5         |Todd       |Hart     |idouglas@example.org       |037.905.4129x605   |18436 Huynh Mall Apt. 622\\nEast Melissa, MO 95502        |\n|6         |Joshua     |Salas    |benjamin87@example.com     |+1-599-186-6871x857|78488 Pearson Roads Apt. 443\\nThomasport, FM 20585       |\n|7         |Christopher|Crawford |lawrencealvarez@example.org|748-829-7596x48720 |4687 Robertson Freeway Suite 917\\nSandrashire, DC 54803  |\n|8         |Dustin     |Burke    |brenda40@example.net       |769-386-8930x4577  |7901 Lindsey Place Suite 012\\nRushmouth, ID 16340        |\n|9         |Crystal    |Allen    |schwartzleah@example.net   |+1-297-099-5930x199|0182 Crawford Park Suite 213\\nVanessaburgh, FM 57993     |\n+----------+-----------+---------+---------------------------+-------------------+---------------------------------------------------------+\n\n"
     ]
    }
   ],
   "source": [
    "# Write Data\n",
    "table_catalog = \"development\"\n",
    "table_schema  = \"node_process_integrated\"\n",
    "table_name    = \"students\"\n",
    "students      = f\"{table_catalog}.{table_schema}.{table_name}\"\n",
    "\n",
    "student_df.write.mode(\"overwrite\").saveAsTable(students)\n",
    "spark.sql(f\"SELECT * FROM {students} LIMIT 10\").show(truncate=False)"
   ]
  },
  {
   "cell_type": "code",
   "execution_count": 0,
   "metadata": {
    "application/vnd.databricks.v1+cell": {
     "cellMetadata": {
      "byteLimit": 2048000,
      "rowLimit": 10000
     },
     "inputWidgets": {},
     "nuid": "efa207dc-0d6d-45a2-833b-0fea6ffc1431",
     "showTitle": false,
     "title": ""
    }
   },
   "outputs": [
    {
     "output_type": "stream",
     "name": "stdout",
     "output_type": "stream",
     "text": [
      "+----------+-----------+---------+-------------------------+---------------------+-------------------------------------------------------+\n|student_id|first_name |last_name|email                    |phone_number         |address                                                |\n+----------+-----------+---------+-------------------------+---------------------+-------------------------------------------------------+\n|9824      |Laura      |Peters   |zlarson@example.org      |410.716.7755x883     |611 Bryan Rue Suite 907\\nSouth Karenbury, FM 74238     |\n|8584      |Mike       |Flores   |leah40@example.com       |(086)503-9317x9789   |845 Thompson Fork Suite 820\\nCindyville, IL 99110      |\n|6798      |Christopher|Henson   |iquinn@example.com       |+1-204-204-6546x870  |1394 Lee Grove\\nAveryfort, MH 73381                    |\n|3561      |Christopher|Kelley   |tammy25@example.org      |001-290-374-0902x176 |USS Bryan\\nFPO AA 43693                                |\n|9228      |Nicole     |West     |jakebryan@example.com    |001-393-791-9417x5550|Unit 4528 Box 4451\\nDPO AP 69713                       |\n|101       |James      |Davis    |briana33@example.net     |9411911225           |1976 John Stream Apt. 195\\nSmithland, PA 81892         |\n|5180      |Brooke     |Wells    |jesusmcdonald@example.com|001-741-564-8076x767 |10306 Rogers Mission Suite 858\\nPort Michael, WA 97791 |\n|4905      |Herbert    |Carr     |fhernandez@example.com   |001-511-535-8013     |287 Judy Village Suite 516\\nJonathanfurt, UT 76984     |\n|87        |Brenda     |Daniels  |ehiggins@example.com     |234-481-6287         |1851 Medina Expressway Apt. 874\\nSolomonmouth, NV 39497|\n|9792      |Evan       |Carpenter|alexandra90@example.net  |001-719-917-1541     |605 Floyd Summit\\nJenningsburgh, CT 89784              |\n+----------+-----------+---------+-------------------------+---------------------+-------------------------------------------------------+\n\n"
     ]
    }
   ],
   "source": [
    "# Write Data\n",
    "table_catalog = \"development\"\n",
    "table_schema  = \"node_process_integrated\"\n",
    "table_name    = \"students\"\n",
    "students      = f\"{table_catalog}.{table_schema}.{table_name}\"\n",
    "\n",
    "spark.sql(f\"SELECT * FROM {students} ORDER BY RAND() LIMIT 10\").show(truncate=False)\n"
   ]
  },
  {
   "cell_type": "code",
   "execution_count": 0,
   "metadata": {
    "application/vnd.databricks.v1+cell": {
     "cellMetadata": {
      "byteLimit": 2048000,
      "rowLimit": 10000
     },
     "inputWidgets": {},
     "nuid": "91a74270-4e65-4d3c-af14-2a97d3e81822",
     "showTitle": false,
     "title": ""
    }
   },
   "outputs": [
    {
     "output_type": "stream",
     "name": "stdout",
     "output_type": "stream",
     "text": [
      "root\n |-- student_id: integer (nullable = true)\n |-- first_name: string (nullable = true)\n |-- last_name: string (nullable = true)\n |-- email: string (nullable = true)\n |-- phone_number: string (nullable = true)\n |-- address: string (nullable = true)\n\n"
     ]
    }
   ],
   "source": [
    "table_df = spark.table(students)\n",
    "table_df.printSchema()"
   ]
  }
 ],
 "metadata": {
  "application/vnd.databricks.v1+notebook": {
   "dashboards": [],
   "language": "python",
   "notebookMetadata": {
    "pythonIndentUnit": 4
   },
   "notebookName": "Students Dataset",
   "notebookOrigID": 1801714774875786,
   "widgets": {}
  }
 },
 "nbformat": 4,
 "nbformat_minor": 0
}

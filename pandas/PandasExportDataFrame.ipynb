{
 "cells": [
  {
   "cell_type": "code",
   "execution_count": 1,
   "id": "6f2bb40d",
   "metadata": {},
   "outputs": [],
   "source": [
    "# !python3 -m pip install pyspark\n",
    "# !python3 -m pip install --upgrade pip\n",
    "# !python3 -m pip install pandas\n",
    "# !python -V"
   ]
  },
  {
   "cell_type": "code",
   "execution_count": 2,
   "id": "7342b23c",
   "metadata": {},
   "outputs": [
    {
     "name": "stdout",
     "output_type": "stream",
     "text": [
      "    product  price\n",
      "0  computer    850\n",
      "1    tablet    200\n",
      "2   printer    150\n",
      "3    laptop   1300\n"
     ]
    }
   ],
   "source": [
    "import pandas as pd\n",
    "\n",
    "data = {'product': ['computer', 'tablet', 'printer', 'laptop'],\n",
    "        'price': [850, 200, 150, 1300] }\n",
    "\n",
    "df = pd.DataFrame(data)\n",
    "\n",
    "df.to_csv('export-dataframe-2.csv', index=False, header=True)\n",
    "\n",
    "print(df)"
   ]
  },
  {
   "cell_type": "code",
   "execution_count": null,
   "id": "72b63d24",
   "metadata": {},
   "outputs": [],
   "source": []
  }
 ],
 "metadata": {
  "kernelspec": {
   "display_name": "Python 3 (ipykernel)",
   "language": "python",
   "name": "python3"
  },
  "language_info": {
   "codemirror_mode": {
    "name": "ipython",
    "version": 3
   },
   "file_extension": ".py",
   "mimetype": "text/x-python",
   "name": "python",
   "nbconvert_exporter": "python",
   "pygments_lexer": "ipython3",
   "version": "3.10.8"
  }
 },
 "nbformat": 4,
 "nbformat_minor": 5
}

{
 "cells": [
  {
   "cell_type": "code",
   "execution_count": 1,
   "id": "7f698a86",
   "metadata": {},
   "outputs": [],
   "source": [
    "# !python3 -m pip install pyspark\n",
    "# !pip install pandas\n",
    "# !python3 -m pip install --upgrade pip\n",
    "# !python -V"
   ]
  },
  {
   "cell_type": "code",
   "execution_count": 2,
   "id": "262af538",
   "metadata": {},
   "outputs": [],
   "source": [
    "import pyspark\n",
    "from pyspark.sql import SparkSession\n",
    "from pyspark.sql.functions import col\n",
    "from pyspark.sql import functions as f"
   ]
  },
  {
   "cell_type": "code",
   "execution_count": 3,
   "id": "e3de36c6",
   "metadata": {},
   "outputs": [],
   "source": [
    "data1 = [\n",
    "    (1, \"AA\"), \\\n",
    "    (2, \"AB\"), \\\n",
    "    (3, \"BB\"), \\\n",
    "    (4, \"BA\"), \\\n",
    "    (5, \"AA\"), \\\n",
    "    (6, \"AB\")\n",
    "  ]"
   ]
  },
  {
   "cell_type": "code",
   "execution_count": 4,
   "id": "519aa5ee",
   "metadata": {},
   "outputs": [],
   "source": [
    "columns= [\"col1\",\"col2\"]"
   ]
  },
  {
   "cell_type": "code",
   "execution_count": 5,
   "id": "2979f780",
   "metadata": {},
   "outputs": [
    {
     "name": "stderr",
     "output_type": "stream",
     "text": [
      "Setting default log level to \"WARN\".\n",
      "To adjust logging level use sc.setLogLevel(newLevel). For SparkR, use setLogLevel(newLevel).\n"
     ]
    },
    {
     "name": "stdout",
     "output_type": "stream",
     "text": [
      "22/12/07 14:27:54 WARN NativeCodeLoader: Unable to load native-hadoop library for your platform... using builtin-java classes where applicable\n"
     ]
    }
   ],
   "source": [
    "spark = SparkSession.builder.appName('GroupBy').getOrCreate()\n",
    "spark.sparkContext.setLogLevel(\"ERROR\")\n"
   ]
  },
  {
   "cell_type": "code",
   "execution_count": 6,
   "id": "f7842539",
   "metadata": {},
   "outputs": [],
   "source": [
    "df = spark.createDataFrame(data = data1, schema = columns)\n"
   ]
  },
  {
   "cell_type": "code",
   "execution_count": 7,
   "id": "6acb277b",
   "metadata": {},
   "outputs": [],
   "source": [
    "df1 = df.filter(df.col2 == \"AA\")                 \\\n",
    "      .groupBy(\"col2\")                           \\\n",
    "      .count()                                   \\\n",
    "      .withColumnRenamed(\"count\", \"count_rows\")"
   ]
  },
  {
   "cell_type": "code",
   "execution_count": 8,
   "id": "b62e032c",
   "metadata": {},
   "outputs": [
    {
     "name": "stdout",
     "output_type": "stream",
     "text": [
      "root\n",
      " |-- col2: string (nullable = true)\n",
      " |-- count_rows: long (nullable = false)\n",
      "\n",
      "+----+----------+\n",
      "|col2|count_rows|\n",
      "+----+----------+\n",
      "|AA  |2         |\n",
      "+----+----------+\n",
      "\n"
     ]
    },
    {
     "name": "stderr",
     "output_type": "stream",
     "text": [
      "\r",
      "[Stage 0:>                                                          (0 + 8) / 8]\r",
      "\r",
      "                                                                                \r"
     ]
    }
   ],
   "source": [
    "df1.printSchema()\n",
    "df1.show(truncate=False)"
   ]
  },
  {
   "cell_type": "code",
   "execution_count": 11,
   "id": "e2b2d408",
   "metadata": {},
   "outputs": [],
   "source": [
    "df1.write.mode('overwrite').csv(\"filter-group-by.csv\")\n",
    "\n",
    "# df2.write.format(\"csv\").mode('overwrite').save(\"filter-group-by.csv\")\n"
   ]
  },
  {
   "cell_type": "code",
   "execution_count": null,
   "id": "ec73597b",
   "metadata": {},
   "outputs": [],
   "source": []
  }
 ],
 "metadata": {
  "kernelspec": {
   "display_name": "Python 3 (ipykernel)",
   "language": "python",
   "name": "python3"
  },
  "language_info": {
   "codemirror_mode": {
    "name": "ipython",
    "version": 3
   },
   "file_extension": ".py",
   "mimetype": "text/x-python",
   "name": "python",
   "nbconvert_exporter": "python",
   "pygments_lexer": "ipython3",
   "version": "3.10.8"
  }
 },
 "nbformat": 4,
 "nbformat_minor": 5
}
